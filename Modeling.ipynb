{
 "cells": [
  {
   "cell_type": "code",
   "execution_count": 1,
   "metadata": {},
   "outputs": [
    {
     "name": "stdout",
     "output_type": "stream",
     "text": [
      "Requirement already satisfied: nltk in /Users/arpitha/opt/anaconda3/lib/python3.8/site-packages (3.5)\n",
      "Requirement already satisfied: joblib in /Users/arpitha/opt/anaconda3/lib/python3.8/site-packages (from nltk) (0.16.0)\n",
      "Requirement already satisfied: regex in /Users/arpitha/opt/anaconda3/lib/python3.8/site-packages (from nltk) (2020.6.8)\n",
      "Requirement already satisfied: click in /Users/arpitha/opt/anaconda3/lib/python3.8/site-packages (from nltk) (7.1.2)\n",
      "Requirement already satisfied: tqdm in /Users/arpitha/opt/anaconda3/lib/python3.8/site-packages (from nltk) (4.47.0)\n"
     ]
    }
   ],
   "source": [
    "! pip install nltk"
   ]
  },
  {
   "cell_type": "code",
   "execution_count": 2,
   "metadata": {},
   "outputs": [],
   "source": [
    "import logging\n",
    "import pandas as pd\n",
    "import numpy as np\n",
    "from numpy import random\n",
    "# import gensim\n",
    "import nltk\n",
    "from sklearn.model_selection import train_test_split\n",
    "from sklearn.feature_extraction.text import CountVectorizer, TfidfVectorizer\n",
    "from sklearn.metrics import accuracy_score, confusion_matrix\n",
    "import matplotlib.pyplot as plt\n",
    "from nltk.corpus import stopwords\n",
    "import re\n",
    "import seaborn as sns\n",
    "from bs4 import BeautifulSoup\n",
    "%matplotlib inline"
   ]
  },
  {
   "cell_type": "code",
   "execution_count": 3,
   "metadata": {},
   "outputs": [
    {
     "name": "stdout",
     "output_type": "stream",
     "text": [
      "                                                text  \\\n",
      "0  We understand that most people who reply immed...   \n",
      "1  Welcome to /r/depression's check-in post - a p...   \n",
      "2  Kind of proud of myself for making it through ...   \n",
      "3  my parents when i wake up early: \\n\\noh my god...   \n",
      "4  I hope someone will read this. I wanna tell my...   \n",
      "5  i just had a conversation with my mother that ...   \n",
      "6  Video games were the thing i always did whenev...   \n",
      "7  Hi, i just wanted to tell all the people that ...   \n",
      "8  Hey guys, hope you are having an amazing morni...   \n",
      "9  i bet my post will be completely ignored. like...   \n",
      "\n",
      "                                               title  target  \n",
      "0  Our most-broken and least-understood rules is ...       1  \n",
      "1  Regular Check-In Post. Plus, a reminder about ...       1  \n",
      "2          No friends so im venting here. Just skip.       1  \n",
      "3  my parents when i wake up late: this isn't nor...       1  \n",
      "4                                Please, I need help       1  \n",
      "5                   opening up is fucking impossible       1  \n",
      "6  I can't enjoy the shelter of video games anymore.       1  \n",
      "7                                   It will be okay.       1  \n",
      "8                             [L][20 F] Broken Heart       1  \n",
      "9              i really dont know what to do anymore       1  \n"
     ]
    }
   ],
   "source": [
    "df = pd.read_csv('clean_data.csv').drop(columns='Unnamed: 0')\n",
    "df = df[pd.notnull(df['target'])]\n",
    "print(df.head(10))"
   ]
  },
  {
   "cell_type": "code",
   "execution_count": 4,
   "metadata": {},
   "outputs": [
    {
     "data": {
      "text/plain": [
       "1    3718\n",
       "0    3373\n",
       "Name: target, dtype: int64"
      ]
     },
     "execution_count": 4,
     "metadata": {},
     "output_type": "execute_result"
    }
   ],
   "source": [
    "df['target'].value_counts()"
   ]
  },
  {
   "cell_type": "code",
   "execution_count": 5,
   "metadata": {},
   "outputs": [
    {
     "data": {
      "image/png": "[encoded data removed]",
      "text/plain": [
       "<Figure size 432x288 with 1 Axes>"
      ]
     },
     "metadata": {
      "needs_background": "light"
     },
     "output_type": "display_data"
    }
   ],
   "source": [
    "# plt.figure(figsize=(10,4))\n",
    "# df.target.value_counts().plot(kind='bar');\n",
    "\n",
    "sns.countplot(x=df['target'], data=df, palette='hls')\n",
    "plt.show()"
   ]
  },
  {
   "cell_type": "code",
   "execution_count": 6,
   "metadata": {},
   "outputs": [
    {
     "name": "stderr",
     "output_type": "stream",
     "text": [
      "[nltk_data] Downloading package stopwords to\n",
      "[nltk_data]     /Users/arpitha/nltk_data...\n",
      "[nltk_data]   Package stopwords is already up-to-date!\n"
     ]
    },
    {
     "data": {
      "text/plain": [
       "True"
      ]
     },
     "execution_count": 6,
     "metadata": {},
     "output_type": "execute_result"
    }
   ],
   "source": [
    "import nltk\n",
    "nltk.download('stopwords')"
   ]
  },
  {
   "cell_type": "code",
   "execution_count": 9,
   "metadata": {},
   "outputs": [],
   "source": [
    "REPLACE_BY_SPACE_RE = re.compile('[/(){}\\[\\]\\|@,;]')\n",
    "BAD_SYMBOLS_RE = re.compile('[^0-9a-z #+_]')\n",
    "STOPWORDS = set(stopwords.words('english'))\n",
    "\n",
    "def clean_text(text):\n",
    "    \"\"\"\n",
    "        text: a string\n",
    "        \n",
    "        return: modified initial string\n",
    "    \"\"\"\n",
    "#     text = BeautifulSoup(text, \"lxml\").text # HTML decoding\n",
    "    text = text.lower() # lowercase text\n",
    "    text = REPLACE_BY_SPACE_RE.sub(' ', text) # replace REPLACE_BY_SPACE_RE symbols by space in text\n",
    "    text = BAD_SYMBOLS_RE.sub('', text) # delete symbols which are in BAD_SYMBOLS_RE from text\n",
    "    text = ' '.join(word for word in text.split() if word not in STOPWORDS) # delete stopwors from text\n",
    "    return text\n",
    "    \n",
    "df['text'] = df['text'].apply(clean_text)\n",
    "df['title'] = df['title'].apply(clean_text)"
   ]
  },
  {
   "cell_type": "code",
   "execution_count": 12,
   "metadata": {},
   "outputs": [
    {
     "name": "stdout",
     "output_type": "stream",
     "text": [
      "363903\n",
      "32554\n"
     ]
    }
   ],
   "source": [
    "print(df['text'].apply(lambda x: len(x.split(' '))).sum())\n",
    "print(df['title'].apply(lambda x: len(x.split(' '))).sum())"
   ]
  },
  {
   "cell_type": "code",
   "execution_count": 13,
   "metadata": {},
   "outputs": [],
   "source": [
    "X = df.text + df.title\n",
    "y = df.target\n",
    "X_train, X_test, y_train, y_test = train_test_split(X, y, test_size=0.3, random_state = 42)"
   ]
  },
  {
   "cell_type": "code",
   "execution_count": 14,
   "metadata": {},
   "outputs": [
    {
     "name": "stdout",
     "output_type": "stream",
     "text": [
      "CPU times: user 1 µs, sys: 1e+03 ns, total: 2 µs\n",
      "Wall time: 2.86 µs\n",
      "accuracy 0.7716165413533834\n",
      "              precision    recall  f1-score   support\n",
      "\n",
      "           0       0.98      0.52      0.68       988\n",
      "           1       0.70      0.99      0.82      1140\n",
      "\n",
      "    accuracy                           0.77      2128\n",
      "   macro avg       0.84      0.75      0.75      2128\n",
      "weighted avg       0.83      0.77      0.76      2128\n",
      "\n"
     ]
    }
   ],
   "source": [
    "from sklearn.naive_bayes import MultinomialNB\n",
    "from sklearn.pipeline import Pipeline\n",
    "from sklearn.feature_extraction.text import TfidfTransformer\n",
    "\n",
    "target_vars = ['0','1']\n",
    "nb = Pipeline([('vect', CountVectorizer()),\n",
    "               ('tfidf', TfidfTransformer()),\n",
    "               ('clf', MultinomialNB()),\n",
    "              ])\n",
    "nb.fit(X_train, y_train)\n",
    "\n",
    "%time\n",
    "from sklearn.metrics import classification_report\n",
    "y_pred = nb.predict(X_test)\n",
    "\n",
    "print('accuracy %s' % accuracy_score(y_pred, y_test))\n",
    "print(classification_report(y_test, y_pred,target_names=target_vars))"
   ]
  },
  {
   "cell_type": "code",
   "execution_count": 28,
   "metadata": {},
   "outputs": [
    {
     "name": "stdout",
     "output_type": "stream",
     "text": [
      "[1 1 1]\n"
     ]
    }
   ],
   "source": [
    "x_handcode_test = ['I have been so angry, so aggressive, and so confrontational since my baby has been born. I’ve had so many mental breakdowns.. I’m the dad I thought dads are happy and normal after birth, I mean my wife is more normal than me and she gave birth. She’s doing great, yet I find myself feeling totally crazy, I hate everyone, I feel so stuck in my head and I am so depressed - I started drinking. All of these traits did not exist prior to our baby being born. What do I do',\n",
    "                 'I hate pizza',\n",
    "                 'Come and join us on /r/CasualConversation\\'s official chat rooms! This time of year is perfect for coming together with old and new friends!\\n\\n \\n\\n\\nHow to join [IRC]\\nIt\\'s very simple, and not as scary as it might sound:\\n\\nGo to https://webchat.snoonet.org/casualconversation\\nEnter a nickname. [Please keep nicknames non-generic, or you will be forced to change your nickname again.]\\n\\nPress \\\"start\\\".\\nDon\\'t be shy, introduce yourself!\\n\\nThere\\'s more info on our wiki: /r/CasualConversation/wiki/irc, and you can always find a link to the channel under the submit button and in the sidebar under resources.\\n\\n\\n\\nIf you wish to change your nickname, type the following and press enter:\\n\\n/nick newnickname\\n\\n \\n\\nIf you already have your own IRC client\\nConnect to irc.snoonet.org on port 6667\\n/join #casualconversation\\n \\n\\nIf you need help\\n\\nIf you require help you can talk to one of the operators (channel mods, Some of them are sub mods). Their name will be prefixed with a \\\"@\\\" or \\\"%\\\", to privately message them just click on their name and then \\\"message\\\", or type the following and press enter:\\n\\nRules:\\n\\nStick within Snoonet guidelines.\\nDon\\'t post NSFW links.\\nDon\\'t harass users, don\\'t use racial slurs, don\\'t be a dick.\\nSubreddit rules apply.\\nDo not spam the bot. [If you want to test out what the bot can do, please PM the bot with /query gonzobot or click on the bot name gonzobot and do \\'send private message. Feel free to ask for help here too. We hope to see you there, have fun!'\n",
    "                ]\n",
    "y_pred = nb.predict(x_handcode_test)\n",
    "print(y_pred)"
   ]
  },
  {
   "cell_type": "code",
   "execution_count": 29,
   "metadata": {},
   "outputs": [
    {
     "name": "stdout",
     "output_type": "stream",
     "text": [
      "CPU times: user 2 µs, sys: 1e+03 ns, total: 3 µs\n",
      "Wall time: 3.81 µs\n",
      "accuracy 0.8773496240601504\n",
      "              precision    recall  f1-score   support\n",
      "\n",
      "           0       0.86      0.87      0.87       988\n",
      "           1       0.89      0.88      0.88      1140\n",
      "\n",
      "    accuracy                           0.88      2128\n",
      "   macro avg       0.88      0.88      0.88      2128\n",
      "weighted avg       0.88      0.88      0.88      2128\n",
      "\n"
     ]
    }
   ],
   "source": [
    "from sklearn.linear_model import LogisticRegression\n",
    "\n",
    "logreg = Pipeline([('vect', CountVectorizer()),\n",
    "                ('tfidf', TfidfTransformer()),\n",
    "                ('clf', LogisticRegression(n_jobs=1, C=1e5, max_iter=1000)),\n",
    "               ])\n",
    "logreg.fit(X_train, y_train)\n",
    "\n",
    "%time\n",
    "\n",
    "y_pred = logreg.predict(X_test)\n",
    "\n",
    "print('accuracy %s' % accuracy_score(y_pred, y_test))\n",
    "print(classification_report(y_test, y_pred,target_names=target_vars))"
   ]
  },
  {
   "cell_type": "code",
   "execution_count": 30,
   "metadata": {},
   "outputs": [
    {
     "name": "stdout",
     "output_type": "stream",
     "text": [
      "[1 0 0]\n"
     ]
    }
   ],
   "source": [
    "y_pred = logreg.predict(x_handcode_test)\n",
    "print(y_pred)"
   ]
  },
  {
   "cell_type": "code",
   "execution_count": 31,
   "metadata": {},
   "outputs": [],
   "source": [
    "from sklearn.feature_extraction.text import TfidfVectorizer\n",
    "# Create feature vectors\n",
    "vectorizer = TfidfVectorizer(min_df = 5,\n",
    "                             max_df = 0.8,\n",
    "                             sublinear_tf = True,\n",
    "                             use_idf = True)\n",
    "train_vectors = vectorizer.fit_transform(X_train)\n",
    "test_vectors = vectorizer.transform(X_test)"
   ]
  },
  {
   "cell_type": "code",
   "execution_count": 35,
   "metadata": {},
   "outputs": [
    {
     "name": "stdout",
     "output_type": "stream",
     "text": [
      "accuracy 0.8914473684210527\n",
      "              precision    recall  f1-score   support\n",
      "\n",
      "           0       0.87      0.90      0.88       988\n",
      "           1       0.91      0.89      0.90      1140\n",
      "\n",
      "    accuracy                           0.89      2128\n",
      "   macro avg       0.89      0.89      0.89      2128\n",
      "weighted avg       0.89      0.89      0.89      2128\n",
      "\n"
     ]
    }
   ],
   "source": [
    "import time\n",
    "from sklearn import svm\n",
    "from sklearn.metrics import classification_report\n",
    "# Perform classification with SVM, kernel=linear\n",
    "classifier_linear = svm.SVC(kernel='linear')\n",
    "t0 = time.time()\n",
    "classifier_linear.fit(train_vectors, y_train)\n",
    "t1 = time.time()\n",
    "y_pred = classifier_linear.predict(test_vectors)\n",
    "t2 = time.time()\n",
    "time_linear_train = t1-t0\n",
    "time_linear_predict = t2-t1\n",
    "# results\n",
    "# print(\"Training time: %fs; Prediction time: %fs\" % (time_linear_train, time_linear_predict))\n",
    "# report = classification_report(y_test, prediction_linear, output_dict=True)\n",
    "# print('0: ', report['0'])\n",
    "# print('1: ', report['1'])\n",
    "print('accuracy %s' % accuracy_score(y_pred, y_test))\n",
    "print(classification_report(y_test, y_pred,target_names=target_vars))"
   ]
  },
  {
   "cell_type": "code",
   "execution_count": 37,
   "metadata": {},
   "outputs": [
    {
     "name": "stdout",
     "output_type": "stream",
     "text": [
      "[1 0 0]\n"
     ]
    }
   ],
   "source": [
    "y_pred = classifier_linear.predict(vectorizer.transform(x_handcode_test))\n",
    "print(y_pred)"
   ]
  },
  {
   "cell_type": "code",
   "execution_count": null,
   "metadata": {},
   "outputs": [],
   "source": []
  }
 ],
 "metadata": {
  "kernelspec": {
   "display_name": "Python 3",
   "language": "python",
   "name": "python3"
  },
  "language_info": {
   "codemirror_mode": {
    "name": "ipython",
    "version": 3
   },
   "file_extension": ".py",
   "mimetype": "text/x-python",
   "name": "python",
   "nbconvert_exporter": "python",
   "pygments_lexer": "ipython3",
   "version": "3.8.3"
  }
 },
 "nbformat": 4,
 "nbformat_minor": 4
}
